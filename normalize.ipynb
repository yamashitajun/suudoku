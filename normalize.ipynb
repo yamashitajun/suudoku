{
 "cells": [
  {
   "cell_type": "code",
   "execution_count": 48,
   "metadata": {},
   "outputs": [],
   "source": [
    "# ライブラリのインポート\n",
    "import numpy as np\n",
    "from PIL import Image\n",
    "import glob\n",
    "import os"
   ]
  },
  {
   "cell_type": "code",
   "execution_count": 49,
   "metadata": {},
   "outputs": [],
   "source": [
    "#画像の幅と高さを一致させる（長い方を削除する）\n",
    "def normalize(img):\n",
    "    while True:\n",
    "        w,h=img.shape\n",
    "        if w==h:\n",
    "            return img\n",
    "        elif w > h:\n",
    "            img = np.delete(img,0,0)\n",
    "        elif w < h:\n",
    "            img = np.delete(img,0,1)"
   ]
  },
  {
   "cell_type": "code",
   "execution_count": 50,
   "metadata": {},
   "outputs": [],
   "source": [
    "#orgパスを設定\n",
    "orgpath = 'org'\n",
    "\n",
    "#newパスを設定\n",
    "newpath = 'new'\n",
    "\n",
    "#orgパス内のディレクトリ一覧の取得\n",
    "files = os.listdir(orgpath)\n",
    "dirs = [f for f in files if os.path.isdir(os.path.join(orgpath, f))]\n",
    "\n",
    "for di in dirs:\n",
    "    if di == '.DS_Store':\n",
    "        continue\n",
    "    jpgs = glob.glob(os.path.join(orgpath,di) + '/*.jpg')\n",
    "    for jpg in jpgs:\n",
    "        # 画像の読み込み\n",
    "        im = Image.open(jpg)\n",
    "        # グレースケール変換\n",
    "        im_g = im.convert('L')\n",
    "        # numpy配列へ変換\n",
    "        im_a = np.asarray(im_g)\n",
    "        # normalize関数の適用\n",
    "        im_n = normalize(im_a)\n",
    "        # pillowの型に変換\n",
    "        pillmg = Image.fromarray(np.uint8(im_n))\n",
    "        # 画像の保存\n",
    "        if not os.path.isdir(os.path.join(newpath,di)):\n",
    "            os.makedirs(os.path.join(newpath,di))\n",
    "        pillmg.save(os.path.join(newpath,di,os.path.basename(jpg)), quality=95)\n",
    "        "
   ]
  },
  {
   "cell_type": "code",
   "execution_count": null,
   "metadata": {},
   "outputs": [],
   "source": []
  }
 ],
 "metadata": {
  "kernelspec": {
   "display_name": "Python 3",
   "language": "python",
   "name": "python3"
  },
  "language_info": {
   "codemirror_mode": {
    "name": "ipython",
    "version": 3
   },
   "file_extension": ".py",
   "mimetype": "text/x-python",
   "name": "python",
   "nbconvert_exporter": "python",
   "pygments_lexer": "ipython3",
   "version": "3.7.6"
  }
 },
 "nbformat": 4,
 "nbformat_minor": 4
}
